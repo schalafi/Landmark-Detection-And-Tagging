{
 "cells": [
  {
   "cell_type": "markdown",
   "metadata": {},
   "source": [
    "# Convolutional Neural Networks\n",
    "\n",
    "## Project: Write an Algorithm for Landmark Classification\n",
    "\n",
    "\n",
    "### Introduction\n",
    "\n",
    "The project folder has the following structure:\n",
    "\n",
    "* In the main directory you have this notebook, `cnn_from_scratch.ipynb`, that contains the instruction and some questions you will have to answer. Follow this notebook and complete the required sections in order.\n",
    "\n",
    "* In the `src/` directory you have several source files. As instructed in this notebook, you will open and complete those files, then come back to this notebook to execute some tests that will verify what you have done. While these tests don't guarantee that your work is bug-free, they will help you finding the most obvious problems so you will be able to proceed to the next step with confidence.\n",
    "\n",
    "* Sometimes you will need to restart the notebook. If you do so, remember to execute also the cells containing the code you have already completed starting from the top, before you move on.\n",
    "\n",
    "In addition to implementing code, there will be questions that you must answer which relate to the project and your implementation. Each section where you will answer a question is preceded by a **'Question'** header. Carefully read each question and provide thorough answers in the following text boxes that begin with **'Answer:'**. Your project submission will be evaluated based on your answers to each of the questions and the implementation you provide.\n",
    "\n",
    "> <img src=\"static_images/icons/noun-info-2558213.png\" alt=\"?\" style=\"width:25px\"/> Code and Markdown cells can be executed using the **Shift + Enter** keyboard shortcut.  Markdown cells can be edited by double-clicking the cell to enter edit mode.\n",
    "\n",
    "The rubric contains _optional_ \"Stand Out Suggestions\" for enhancing the project beyond the minimum requirements. If you decide to pursue the \"Stand Out Suggestions\", you should include the code in this Jupyter notebook.\n",
    "\n",
    "### Designing and training a CNN from scratch\n",
    "\n",
    "In this notebook, you will create a CNN that classifies landmarks.  You must create your CNN _from scratch_ (so, you can't use transfer learning _yet_!), and you must attain a test accuracy of at least 50%.\n",
    "\n",
    "Although 50% may seem low at first glance, it seems more reasonable after realizing how difficult of a problem this is. Many times, an image that is taken at a landmark captures a fairly mundane image of an animal or plant, like in the following picture.\n",
    "\n",
    "<img src=\"static_images/train/00.Haleakala_National_Park/084c2aa50d0a9249.jpg\" alt=\"Bird in Haleakalā National Park\" style=\"width: 400px;\"/>\n",
    "\n",
    "Just by looking at that image alone, would you have been able to guess that it was taken at the Haleakalā National Park in Hawaii?\n",
    "\n",
    "An accuracy of 50% is significantly better than random guessing, which would provide an accuracy of just 2% (100% / 50 classes). In Step 2 of this notebook, you will have the opportunity to greatly improve accuracy by using transfer learning to create a CNN.\n",
    "\n",
    "Experiment with different architectures, hyperparameters, training strategies, and trust your intuition.  And, of course, have fun!\n",
    "\n",
    "---\n",
    "## <img src=\"static_images/icons/noun-advance-2109145.png\" alt=\">\" style=\"width:50px\"/> Step 0: Setting up\n",
    "\n",
    "The following cells make sure that your environment is setup correctly, download the data if you don't have it already, and also check that your GPU is available and ready to go. You have to execute them every time you restart your notebook."
   ]
  },
  {
   "cell_type": "code",
   "execution_count": null,
   "metadata": {},
   "outputs": [],
   "source": [
    "# Install requirements\n",
    "!pip install -r requirements.txt | grep -v \"already satisfied\""
   ]
  },
  {
   "cell_type": "code",
   "execution_count": null,
   "metadata": {},
   "outputs": [],
   "source": [
    "%load_ext autoreload\n",
    "%autoreload 2 "
   ]
  },
  {
   "cell_type": "markdown",
   "metadata": {},
   "source": [
    "Important! After you have ran pip install, please restart the kernel using the **Kernel** menu "
   ]
  },
  {
   "cell_type": "code",
   "execution_count": null,
   "metadata": {},
   "outputs": [],
   "source": [
    "from src.helpers import setup_env\n",
    "\n",
    "# If running locally, this will download dataset (make sure you have at \n",
    "# least 2 Gb of space on your hard drive)\n",
    "setup_env()"
   ]
  },
  {
   "cell_type": "markdown",
   "metadata": {},
   "source": [
    "---\n",
    "## <img src=\"static_images/icons/noun-advance-2109145.png\" alt=\">\" style=\"width:50px\"/> Step 1: Data\n",
    "\n",
    "In this and the following steps we are going to complete some code, and then execute some tests to make sure the code works as intended. \n",
    "\n",
    "Open the file `src/data.py`. It contains a function called `get_data_loaders`. Read the function and complete all the parts marked by `YOUR CODE HERE`. Once you have finished, test that your implementation is correct by executing the following cell (see below for what to do if a test fails):"
   ]
  },
  {
   "cell_type": "code",
   "execution_count": null,
   "metadata": {},
   "outputs": [],
   "source": [
    "!pip install pytest"
   ]
  },
  {
   "cell_type": "code",
   "execution_count": null,
   "metadata": {},
   "outputs": [],
   "source": [
    "!pip install mlflow"
   ]
  },
  {
   "cell_type": "code",
   "execution_count": null,
   "metadata": {},
   "outputs": [],
   "source": [
    "!pytest -vv src/data.py -k data_loaders"
   ]
  },
  {
   "cell_type": "markdown",
   "metadata": {},
   "source": [
    "You should see something like:\n",
    "```\n",
    "src/data.py::test_data_loaders_keys PASSED                               [ 33%]\n",
    "src/data.py::test_data_loaders_output_type PASSED                        [ 66%]\n",
    "src/data.py::test_data_loaders_output_shape PASSED                       [100%]\n",
    "\n",
    "======================= 3 passed, 1 deselected in 1.81s ========================\n",
    "```\n",
    "If all the tests are `PASSED`, you can move to the next section.\n",
    "\n",
    "> <img src=\"static_images/icons/noun-info-2558213.png\" alt=\"?\" style=\"width:25px\"/> **What to do if tests fail**\n",
    "When a test fails, `pytest` will mark it as `FAILED` as opposed to `PASSED`, and will print a lot of useful output, including a message that should tell you what the problem is. For example, this is the output of a failed test:\n",
    "> ```\n",
    ">    def test_data_loaders_keys(data_loaders):\n",
    ">    \n",
    ">       assert set(data_loaders.keys()) == {\"train\", \"valid\", \"test\"}\n",
    "E       AssertionError: assert {'tes', 'train', 'valid'} == {'test', 'train', 'valid'}\n",
    "E         Extra items in the left set:\n",
    "E         'tes'\n",
    "E         Full diff:\n",
    "E         - {'test', 'train', 'valid'}\n",
    "E         + {'tes', 'train', 'valid'}\n",
    "E         ?                          +++++++\n",
    ">\n",
    "> src/data.py:171: AssertionError\n",
    "-------------- Captured stdout setup ----------------------------------------------\n",
    "Reusing cached mean and std for landmark_images\n",
    "Dataset mean: tensor([0.4638, 0.4725, 0.4687]), std: tensor([0.2699, 0.2706, 0.3018])\n",
    "=========== short test summary info ===============================================\n",
    "FAILED src/data.py::test_data_loaders_keys - AssertionError: The keys of the data_loaders dictionary should be train, valid and test\n",
    "> ``` \n",
    "> In the `short test summary info` you can see a short description of the problem. In this case, the dictionary we are returning has the wrong keys. Going above a little, you can see that the test expects `{'test', 'train', 'valid'}` while we are returning `{'tes', 'train', 'valid'}` (there is a missing `t`). So we can go back to our function, fix that problem and test again.\n",
    "> \n",
    "> In other cases, you might get an error like:\n",
    "> ```\n",
    "    def _conv_forward(self, input: Tensor, weight: Tensor, bias: Optional[Tensor]):\n",
    "        if self.padding_mode != 'zeros':\n",
    "            return F.conv2d(F.pad(input, self._reversed_padding_repeated_twice, mode=self.padding_mode),\n",
    "                            weight, bias, self.stride,\n",
    "                            _pair(0), self.dilation, self.groups)\n",
    "        return F.conv2d(input, weight, bias, self.stride,\n",
    ">                       self.padding, self.dilation, self.groups)\n",
    "E       RuntimeError: Input type (torch.cuda.FloatTensor) and weight type (torch.FloatTensor) should be the same\n",
    ">\n",
    "> ../../../../miniconda3/envs/udacity_starter/lib/python3.7/site-packages/torch/nn/modules/conv.py:440: RuntimeError\n",
    "> ```\n",
    "> Looking at the stack trace you should be able to understand what it is going on. In this case, we forgot to add a `.cuda()` to some tensor. For example, the model is on the GPU, but the data aren't."
   ]
  },
  {
   "cell_type": "markdown",
   "metadata": {},
   "source": [
    "<img src=\"static_images/icons/noun-question-mark-869751.png\" alt=\"?\" style=\"width:25px\"/> **Question:** Describe your chosen procedure for preprocessing the data. \n",
    "- How does your code resize the images (by cropping, stretching, etc)?  What size did you pick for the input tensor, and why?\n",
    "First, the images are cropped to 256x256. Then, they are randomly cropped to 224x224. This size is chosen because 224x224 is a standard image size in machine learning, allowing for efficient training and compatibility with many pre-trained models.\n",
    "\n",
    "- Did you decide to augment the dataset?  If so, how (through translations, flips, rotations, etc)?  If not, why not?\n",
    "\n"
   ]
  },
  {
   "cell_type": "markdown",
   "metadata": {},
   "source": [
    "<img src=\"static_images/icons/noun-answer-3361020.png\" alt=\">\" style=\"width:25px\"/> **Answer**: \n",
    "\n",
    "Yes, I decided to augment the dataset using RandAugment due to its ease of use and robustness. RandAugment has only two parameters: 'num_ops' and 'magnitude'. 'num_ops' determines the number of transformations applied to each image, while 'magnitude' controls the intensity of these transformations. This simplicity makes it easier to tune compared to adjusting multiple parameters for different transforms, improving the model's generalization by exposing it to a variety of image variations.\n",
    "\n"
   ]
  },
  {
   "cell_type": "markdown",
   "metadata": {},
   "source": [
    "### Visualize a Batch of Training Data\n",
    "\n",
    "Go back to `src/data.py` and complete the function `visualize_one_batch` in all places with the `YOUR CODE HERE` marker. After you're done, execute the following cell and make sure the test `src/data.py::test_visualize_one_batch` is `PASSED`:"
   ]
  },
  {
   "cell_type": "code",
   "execution_count": null,
   "metadata": {},
   "outputs": [],
   "source": [
    "!pytest -vv src/data.py -k visualize_one_batch"
   ]
  },
  {
   "cell_type": "markdown",
   "metadata": {},
   "source": [
    "We can now use the code we just completed to get a batch of images from your train data loader and look at them.\n",
    "\n",
    "Visualizing the output of your data loader is a great way to ensure that your data loading and preprocessing (including transforms such as rotations, translations, color transforms...) are working as expected."
   ]
  },
  {
   "cell_type": "code",
   "execution_count": null,
   "metadata": {},
   "outputs": [],
   "source": [
    "%matplotlib inline\n",
    "from src.data import visualize_one_batch, get_data_loaders\n",
    "\n",
    "# use get_data_loaders to get the data_loaders dictionary. Use a batch_size\n",
    "# of 5, a validation size of 0.01 and num_workers=-1 (all CPUs)\n",
    "data_loaders = get_data_loaders(\n",
    "        batch_size = 5,\n",
    "        valid_size = 0.01, \n",
    "        num_workers = 2,\n",
    "        limit =  -1\n",
    "\n",
    ")# YOUR CODE HERE\n",
    "\n",
    "visualize_one_batch(data_loaders)"
   ]
  },
  {
   "cell_type": "markdown",
   "metadata": {},
   "source": [
    "---\n",
    "## <img src=\"static_images/icons/noun-advance-2109145.png\" alt=\">\" style=\"width:50px\"/> Step 2: Define model\n",
    "\n",
    "Open `src/model.py` and complete the `MyModel` class filling in all the `YOUR CODE HERE` sections. After you're done, execute the following test and make sure it passes:"
   ]
  },
  {
   "cell_type": "code",
   "execution_count": null,
   "metadata": {},
   "outputs": [],
   "source": [
    "!pytest -vv src/model.py"
   ]
  },
  {
   "cell_type": "markdown",
   "metadata": {},
   "source": [
    "<img src=\"static_images/icons/noun-question-mark-869751.png\" alt=\"?\" style=\"width:25px\"/> **Question**: Outline the steps you took to get to your final CNN architecture and your reasoning at each step.  "
   ]
  },
  {
   "cell_type": "markdown",
   "metadata": {},
   "source": [
    "<img src=\"static_images/icons/noun-answer-3361020.png\" alt=\">\" style=\"width:25px\"/> __Answer:__ \n",
    "\n"
   ]
  },
  {
   "cell_type": "markdown",
   "metadata": {},
   "source": [
    "---\n",
    "## <img src=\"static_images/icons/noun-advance-2109145.png\" alt=\">\" style=\"width:50px\"/> Step 3: define loss and optimizer\n",
    "\n",
    "Open `src/optimization.py` and complete the `get_loss` function, then execute the test and make sure it passes:"
   ]
  },
  {
   "cell_type": "code",
   "execution_count": null,
   "metadata": {},
   "outputs": [],
   "source": [
    "!pytest -vv src/optimization.py -k get_loss"
   ]
  },
  {
   "cell_type": "markdown",
   "metadata": {},
   "source": [
    "Then, in the same file, complete the `get_optimizer` function then execute its tests, and make sure they all pass:"
   ]
  },
  {
   "cell_type": "code",
   "execution_count": null,
   "metadata": {},
   "outputs": [],
   "source": [
    "!pytest -vv src/optimization.py -k get_optimizer"
   ]
  },
  {
   "cell_type": "markdown",
   "metadata": {},
   "source": [
    "---\n",
    "## <img src=\"static_images/icons/noun-advance-2109145.png\" alt=\">\" style=\"width:50px\"/> Step 4: Train and Validate the Model\n",
    "\n",
    "> <img src=\"static_images/icons/noun-info-2558213.png\" alt=\"?\" style=\"width:25px\"/> Testing ML code is notoriously difficult. The tests in this section merely exercise the functions you are completing, so it will help you catching glaring problems but it won't guarantee that your training code is bug-free. If you see that your loss is not decreasing, for example, that's a sign of a bug or of a flawed model design. Use your judgement.\n",
    "\n",
    "Open `src/train.py` and complete the `train_one_epoch` function, then run the tests:"
   ]
  },
  {
   "cell_type": "code",
   "execution_count": null,
   "metadata": {},
   "outputs": [],
   "source": [
    "!pytest -vv src/train.py -k train_one_epoch"
   ]
  },
  {
   "cell_type": "markdown",
   "metadata": {},
   "source": [
    "Now complete the `valid` function, then run the tests:"
   ]
  },
  {
   "cell_type": "code",
   "execution_count": null,
   "metadata": {},
   "outputs": [],
   "source": [
    "!pytest -vv src/train.py -k valid_one_epoch"
   ]
  },
  {
   "cell_type": "markdown",
   "metadata": {},
   "source": [
    "Now complete the `optimize` function, then run the tests:"
   ]
  },
  {
   "cell_type": "code",
   "execution_count": null,
   "metadata": {},
   "outputs": [],
   "source": [
    "!pytest -vv src/train.py -k optimize"
   ]
  },
  {
   "cell_type": "markdown",
   "metadata": {},
   "source": [
    "Finally, complete the `test` function then run the tests:"
   ]
  },
  {
   "cell_type": "code",
   "execution_count": null,
   "metadata": {},
   "outputs": [],
   "source": [
    "!pytest -vv src/train.py -k one_epoch_test"
   ]
  },
  {
   "cell_type": "markdown",
   "metadata": {},
   "source": [
    "---\n",
    "## <img src=\"static_images/icons/noun-advance-2109145.png\" alt=\">\" style=\"width:50px\"/> Step 5: Putting everything together\n",
    "\n",
    "Allright, good job getting here! Now it's time to see if all our hard work pays off. In the following cell we will train your model and validate it against the validation set.\n",
    "\n",
    "Let's start by defining a few hyperparameters. Feel free to experiment with different values and try to optimize your model:"
   ]
  },
  {
   "cell_type": "code",
   "execution_count": 1,
   "metadata": {},
   "outputs": [],
   "source": [
    "import torch\n",
    "torch.cuda.empty_cache()"
   ]
  },
  {
   "cell_type": "code",
   "execution_count": 18,
   "metadata": {},
   "outputs": [
    {
     "data": {
      "text/plain": [
       "\"\\nbatch_size = 256      # size of the minibatch for stochastic gradient descent (or Adam)\\nvalid_size = 0.20       # fraction of the training data to reserve for validation\\nnum_epochs = 50 #50       # number of epochs for training\\nnum_classes = 50       # number of classes. Do not change this\\ndropout = 0.20 #0.4          # dropout for our model\\nlearning_rate = 0.001   #0.001  # Learning rate for SGD (or Adam)\\nopt = 'ADAM'            # optimizer. 'sgd' or 'adam'\\nweight_decay = 0.003  # regularization. Increase this to combat overfitting\\n\""
      ]
     },
     "execution_count": 18,
     "metadata": {},
     "output_type": "execute_result"
    }
   ],
   "source": [
    "\"\"\"\n",
    "batch_size = 256      # size of the minibatch for stochastic gradient descent (or Adam)\n",
    "valid_size = 0.20       # fraction of the training data to reserve for validation\n",
    "num_epochs = 50 #50       # number of epochs for training\n",
    "num_classes = 50       # number of classes. Do not change this\n",
    "dropout = 0.20 #0.4          # dropout for our model\n",
    "learning_rate = 0.001   #0.001  # Learning rate for SGD (or Adam)\n",
    "opt = 'ADAM'            # optimizer. 'sgd' or 'adam'\n",
    "weight_decay = 0.003  # regularization. Increase this to combat overfitting\n",
    "\"\"\""
   ]
  },
  {
   "cell_type": "code",
   "execution_count": 10,
   "metadata": {},
   "outputs": [],
   "source": [
    "import torch\n",
    "import numpy as np\n",
    "from torch.optim.lr_scheduler import LambdaLR\n",
    "from tqdm import tqdm\n",
    "import torch.optim as optim\n",
    "import copy\n",
    "import matplotlib.pyplot as plt \n"
   ]
  },
  {
   "cell_type": "code",
   "execution_count": 4,
   "metadata": {},
   "outputs": [
    {
     "name": "stderr",
     "output_type": "stream",
     "text": [
      "/opt/conda/lib/python3.7/site-packages/requests/__init__.py:91: RequestsDependencyWarning: urllib3 (2.0.7) or chardet (3.0.4) doesn't match a supported version!\n",
      "  RequestsDependencyWarning)\n"
     ]
    }
   ],
   "source": [
    "from src.data import get_data_loaders\n",
    "from src.train import optimize\n",
    "from src.optimization import get_optimizer, get_loss\n",
    "from src.model import MyModel\n"
   ]
  },
  {
   "cell_type": "code",
   "execution_count": 5,
   "metadata": {},
   "outputs": [],
   "source": [
    "def lr_finder(min_lr, max_lr, n_steps, loss, model, data_loaders):\n",
    "    \n",
    "    # Save initial weights so we can restore them at the end\n",
    "    torch.save(model.state_dict(), \"__weights_backup\")\n",
    "    \n",
    "    # specify optimizer\n",
    "    optimizer = optim.SGD(model.parameters(), lr=min_lr)\n",
    "\n",
    "    # We create a learning rate scheduler that increases the learning\n",
    "    # rate at every batch.\n",
    "    # Find the factor where min_lr r**(n_steps-1) = max_lr\n",
    "    r = np.power(max_lr / min_lr, 1 / (n_steps - 1))\n",
    "\n",
    "    def new_lr(epoch):\n",
    "        \"\"\"\n",
    "        This should return the *factor* by which the initial learning\n",
    "        rate must be multipled for to get the desired learning rate\n",
    "        \"\"\"\n",
    "        return r ** epoch\n",
    "\n",
    "    # This scheduler increases the learning rate by a constanct factor (r)\n",
    "    # at every iteration\n",
    "    lr_scheduler = LambdaLR(optimizer, new_lr)\n",
    "\n",
    "    # Set the model in training mode\n",
    "    # (so all layers that behave differently between training and evaluation,\n",
    "    # like batchnorm and dropout, will select their training behavior)\n",
    "    model.train()\n",
    "\n",
    "    # Loop over the training data\n",
    "    losses = {}\n",
    "    train_loss = 0.0\n",
    "\n",
    "    for batch_idx, (data, target) in tqdm(\n",
    "        enumerate(data_loaders[\"train\"]),\n",
    "        desc=\"Training\",\n",
    "        total=len(data_loaders[\"train\"]),\n",
    "        leave=True,\n",
    "        ncols=80,\n",
    "    ):\n",
    "        # move data to GPU if available\n",
    "        if torch.cuda.is_available():\n",
    "            data, target = data.cuda(), target.cuda()\n",
    "\n",
    "        # 1. clear the gradients of all optimized variables\n",
    "        optimizer.zero_grad()  # -\n",
    "        # 2. forward pass: compute predicted outputs by passing inputs to the model\n",
    "        output = model(data)  # =\n",
    "        # 3. calculate the loss\n",
    "        loss_value = loss(output, target)  # =\n",
    "        # 4. backward pass: compute gradient of the loss with respect to model parameters\n",
    "        loss_value.backward()  # -\n",
    "        # 5. perform a single optimization step (parameter update)\n",
    "        optimizer.step()  # -\n",
    "\n",
    "        train_loss = train_loss + (\n",
    "            (1 / (batch_idx + 1)) * (loss_value.data.item() - train_loss)\n",
    "        )\n",
    "\n",
    "        losses[lr_scheduler.get_last_lr()[0]] = train_loss\n",
    "\n",
    "        # Stop if the loss gets too big\n",
    "        if train_loss / min(losses.values()) > 10:\n",
    "            break\n",
    "\n",
    "        if batch_idx == n_steps - 1:\n",
    "            break\n",
    "        else:\n",
    "            # Increase the learning rate for the next iteration\n",
    "            lr_scheduler.step()\n",
    "    \n",
    "    # Restore model to its initial state\n",
    "    model.load_state_dict(torch.load('__weights_backup'))\n",
    "    \n",
    "    return losses\n"
   ]
  },
  {
   "cell_type": "markdown",
   "metadata": {},
   "source": [
    "### Find Learning Rate "
   ]
  },
  {
   "cell_type": "code",
   "execution_count": 6,
   "metadata": {},
   "outputs": [
    {
     "name": "stdout",
     "output_type": "stream",
     "text": [
      "Reusing cached mean and std\n",
      "Dataset mean: tensor([0.4638, 0.4725, 0.4687]), std: tensor([0.2699, 0.2706, 0.3018])\n"
     ]
    }
   ],
   "source": [
    "# get the data loaders using batch_size and valid_size defined in the previous\n",
    "# cell\n",
    "data_loaders = get_data_loaders(\n",
    "    batch_size = batch_size,\n",
    "    valid_size = valid_size)# YOUR CODE HERE\n",
    "\n",
    "# instance model MyModel with num_classes and drouput defined in the previous\n",
    "# cell\n",
    "model =MyModel(num_classes = num_classes, dropout = dropout)  # YOUR CODE HERE\n",
    "if torch.cuda.is_available():\n",
    "    model.cuda()\n",
    "#print(model)\n"
   ]
  },
  {
   "cell_type": "code",
   "execution_count": 7,
   "metadata": {},
   "outputs": [
    {
     "name": "stdout",
     "output_type": "stream",
     "text": [
      "Using CUDA while defining the loss function.\n"
     ]
    }
   ],
   "source": [
    "# Get the loss using get_loss\n",
    "loss = get_loss() \n"
   ]
  },
  {
   "cell_type": "code",
   "execution_count": 8,
   "metadata": {},
   "outputs": [
    {
     "data": {
      "text/plain": [
       "16"
      ]
     },
     "execution_count": 8,
     "metadata": {},
     "output_type": "execute_result"
    }
   ],
   "source": [
    "# Range  and number of steps for the learning rate\n",
    "min_lr = 1e-5\n",
    "max_lr = 1\n",
    "n_steps = min(len(data_loaders['train']), 200)\n",
    "n_steps\n"
   ]
  },
  {
   "cell_type": "code",
   "execution_count": 11,
   "metadata": {},
   "outputs": [
    {
     "name": "stderr",
     "output_type": "stream",
     "text": [
      "Training:  94%|██████████████████████████████▉  | 15/16 [01:21<00:05,  5.41s/it]\n"
     ]
    },
    {
     "data": {
      "text/plain": [
       "(4.000775337219238, 4.036714977771044)"
      ]
     },
     "execution_count": 11,
     "metadata": {},
     "output_type": "execute_result"
    },
    {
     "data": {
      "image/png": "[encoded data removed]",
      "text/plain": [
       "<Figure size 432x288 with 1 Axes>"
      ]
     },
     "metadata": {
      "needs_background": "light"
     },
     "output_type": "display_data"
    }
   ],
   "source": [
    "\n",
    "losses = lr_finder(min_lr, max_lr, n_steps, loss, model, data_loaders)\n",
    "\n",
    "# Plot the results\n",
    "plt.plot(losses.keys(), losses.values())\n",
    "plt.xscale(\"log\")\n",
    "plt.ylabel(\"loss\")\n",
    "plt.xlabel(\"learning rate (log scale)\")\n",
    "\n",
    "# Adjust the range on the y-axis to see things more clearly\n",
    "plt.xlim([1e-4, None])\n",
    "plt.ylim([min(losses.values()), np.percentile(list(losses.values()), 97)])"
   ]
  },
  {
   "cell_type": "code",
   "execution_count": 12,
   "metadata": {},
   "outputs": [],
   "source": [
    "del model"
   ]
  },
  {
   "cell_type": "code",
   "execution_count": 27,
   "metadata": {},
   "outputs": [],
   "source": [
    "learning_rate =0.001 #(1e-1 - 1e-2)/2\n"
   ]
  },
  {
   "cell_type": "code",
   "execution_count": 29,
   "metadata": {},
   "outputs": [
    {
     "name": "stdout",
     "output_type": "stream",
     "text": [
      "Learning rate:  0.001\n"
     ]
    }
   ],
   "source": [
    "batch_size = 256      # size of the minibatch for stochastic gradient descent (or Adam)\n",
    "valid_size = 0.20       # fraction of the training data to reserve for validation\n",
    "num_epochs = 50 #50       # number of epochs for training\n",
    "num_classes = 50       # number of classes. Do not change this\n",
    "dropout = 0.20 #0.4          # dropout for our model\n",
    "print(\"Learning rate: \", learning_rate)    #0.001  # Learning rate for SGD (or Adam)\n",
    "opt = 'ADAM'            # optimizer. 'sgd' or 'adam'\n",
    "weight_decay = 0.005  # regularization. Increase this to combat overfitting"
   ]
  },
  {
   "cell_type": "code",
   "execution_count": null,
   "metadata": {},
   "outputs": [
    {
     "data": {
      "image/png": "[encoded data removed]",
      "text/plain": [
       "<Figure size 864x576 with 2 Axes>"
      ]
     },
     "metadata": {
      "needs_background": "light"
     },
     "output_type": "display_data"
    },
    {
     "name": "stderr",
     "output_type": "stream",
     "text": [
      "Training: 100%|█████████████████████████████████| 16/16 [01:20<00:00,  5.05s/it]\n",
      "Validating:  25%|████████▎                        | 1/4 [00:04<00:12,  4.10s/it]"
     ]
    }
   ],
   "source": [
    "\n",
    "from src.data import get_data_loaders\n",
    "from src.train import optimize\n",
    "from src.optimization import get_optimizer, get_loss\n",
    "from src.model import MyModel\n",
    "\n",
    "# get the data loaders using batch_size and valid_size defined in the previous\n",
    "# cell\n",
    "# HINT: do NOT copy/paste the values. Use the variables instead\n",
    "#data_loaders = get_data_loaders(\n",
    "#        batch_size = batch_size, valid_size = valid_size,)# YOUR CODE HERE\n",
    "\n",
    "# instance model MyModel with num_classes and drouput defined in the previous\n",
    "# cell\n",
    "model =MyModel(num_classes = num_classes, dropout = dropout)  # YOUR CODE HERE\n",
    "#print(model)\n",
    "\n",
    "# Get the optimizer using get_optimizer and the model you just created, the learning rate,\n",
    "# the optimizer and the weight decay specified in the previous cell\n",
    "optimizer = get_optimizer(model = model,\n",
    "    optimizer = opt,\n",
    "    learning_rate  = learning_rate,\n",
    "    weight_decay = weight_decay)# YOUR CODE HERE\n",
    "\n",
    "# Get the loss using get_loss\n",
    "loss = get_loss() # YOUR CODE HERE\n",
    "\n",
    "optimize(\n",
    "    data_loaders,\n",
    "    model,\n",
    "    optimizer,\n",
    "    loss,\n",
    "    n_epochs=num_epochs,\n",
    "    save_path=\"checkpoints/best_val_loss.pt\",\n",
    "    interactive_tracking=True\n",
    ")\n"
   ]
  },
  {
   "cell_type": "code",
   "execution_count": null,
   "metadata": {},
   "outputs": [],
   "source": [
    "import mlflow \n",
    "from helpers import one_epoch_test\n",
    "\n",
    "def train_one_model(model,\n",
    "                    learning_rate,\n",
    "                    n_epochs,\n",
    "                    data_loaders,\n",
    "                    loss,\n",
    "                    optimizer\n",
    "                   ):\n",
    "    \n",
    "    #transforms = get_transforms(rand_augment_magnitude=rand_augment_magnitude)\n",
    "    #data_loaders = get_data_loaders(batch_size, valid_size, transforms, num_workers)\n",
    "    #model = Net()\n",
    "    \n",
    "    if torch.cuda.available():\n",
    "        model.cuda()\n",
    "    \n",
    "    #optimizer = torch.optim.SGD(model.parameters(), lr=learning_rate)\n",
    "    #loss = nn.CrossEntropyLoss()\n",
    "    \n",
    "    with mlflow.start_run():\n",
    "        \n",
    "        optimize(data_loaders, model, optimizer, loss, n_epochs, \"best_val_loss.pt\", interactive_tracking=True)\n",
    "        \n",
    "        # Restore best validation loss\n",
    "        model.load_state_dict(torch.load('best_val_loss.pt'))\n",
    "        \n",
    "        # Test model on *validation* set (never optimize your hyperparameters on the \n",
    "        # test set!)\n",
    "        val_loss, preds, actuals = one_epoch_test(data_loaders['valid'], model, loss)\n",
    "        \n",
    "        # Use mlflow.log_param to log the learning rate and the\n",
    "        # rand_augment_magnitude\n",
    "        \n",
    "        # track metrics\n",
    "        mlflow.log_param(\"learning_rate\", learning_rate)\n",
    "        #mlflow.log_param(\"rand_augment_magnitude\", rand_augment_magnitude)\n",
    "        \n",
    "        # Use mlflow.log_metric to log your validation loss\n",
    "        # YOUR CODE HERE\n",
    "        mlflow.log_metric(\"val_loss\", val_loss)\n",
    "        \n",
    "        val_accuracy = (np.array(preds)==np.array(actuals)).sum() / len(actuals)\n",
    "        \n",
    "        # Use mlflow to log the validation accuracy as a metric\n",
    "        # YOUR CODE HERE\n",
    "        mlflow.log_metric(\"val_accuracy\", val_accuracy)\n",
    "        \n",
    "        # Use mlflow.log_artifact to log the best_val_loss.pt file\n",
    "        mlflow.log_artifact(\"best_val_loss.pt\")"
   ]
  },
  {
   "cell_type": "code",
   "execution_count": null,
   "metadata": {},
   "outputs": [],
   "source": [
    "#model =MyModel(num_classes = num_classes, dropout = dropout)  \n"
   ]
  },
  {
   "cell_type": "markdown",
   "metadata": {},
   "source": [
    "---\n",
    "## <img src=\"static_images/icons/noun-advance-2109145.png\" alt=\">\" style=\"width:50px\"/> Step 6: testing against the Test Set\n",
    "\n",
    "> <img src=\"static_images/icons/noun-info-2558213.png\" alt=\"?\" style=\"width:25px\"/> only run this *after* you have completed hyperpameter optimization. Do not optimize hyperparameters by looking at the results on the test set, or you might overfit on the test set (bad, bad, bad)\n",
    "\n",
    "Run the code cell below to try out your model on the test dataset of landmark images. Ensure that your test accuracy is greater than 50%."
   ]
  },
  {
   "cell_type": "code",
   "execution_count": null,
   "metadata": {},
   "outputs": [],
   "source": [
    "# load the model that got the best validation accuracy\n",
    "#from src.train import one_epoch_test\n",
    "from src.model import MyModel\n",
    "import torch\n",
    "\n",
    "model = MyModel(num_classes=num_classes, dropout=dropout)\n",
    "\n",
    "# YOUR CODE HERE: load the weights in 'checkpoints/best_val_loss.pt'\n",
    "# Load the state dictionary from the checkpoint file\n",
    "checkpoint_path = 'checkpoints/best_val_loss.pt'\n",
    "model.load_state_dict(torch.load(checkpoint_path)['model_state_dict'])\n",
    "\n",
    "device = torch.device(\"cuda\" if torch.cuda.is_available() else \"cpu\")\n",
    "model.to(device)\n",
    "\n",
    "# Run test\n",
    "one_epoch_test(data_loaders['test'], model, loss)"
   ]
  },
  {
   "cell_type": "markdown",
   "metadata": {},
   "source": [
    "---\n",
    "## <img src=\"static_images/icons/noun-advance-2109145.png\" alt=\">\" style=\"width:50px\"/> Step 7: Export using torchscript\n",
    "\n",
    "Great job creating your CNN models! Now that you have put in all the hard work of creating accurate classifiers, let's export it so we can use it in our app.\n",
    "\n",
    "But first, as usual, we need to complete some code!\n",
    "\n",
    "Open `src/predictor.py` and fill up the missing code, then run the tests:"
   ]
  },
  {
   "cell_type": "code",
   "execution_count": null,
   "metadata": {},
   "outputs": [],
   "source": [
    "!pytest -vv src/predictor.py"
   ]
  },
  {
   "cell_type": "markdown",
   "metadata": {},
   "source": [
    "Allright, now we are ready to export our model using our Predictor class:"
   ]
  },
  {
   "cell_type": "code",
   "execution_count": null,
   "metadata": {},
   "outputs": [],
   "source": [
    "# NOTE: you might need to restart the notebook before running this step\n",
    "# If you get an error about RuntimeError: Can't redefine method: forward on class\n",
    "# restart your notebook then execute only this cell\n",
    "from src.predictor import Predictor\n",
    "from src.helpers import compute_mean_and_std\n",
    "from src.model import MyModel\n",
    "from src.data import get_data_loaders\n",
    "import torch\n",
    "\n",
    "data_loaders = get_data_loaders(batch_size=1)\n",
    "\n",
    "# First let's get the class names from our data loaders\n",
    "class_names = data_loaders[\"train\"].dataset.classes\n",
    "\n",
    "# Then let's move the model_transfer to the CPU\n",
    "# (we don't need GPU for inference)\n",
    "model = MyModel(num_classes=50, dropout=0.5).cpu()\n",
    "\n",
    "# Let's make sure we use the right weights by loading the\n",
    "# best weights we have found during training\n",
    "# NOTE: remember to use map_location='cpu' so the weights\n",
    "# are loaded on the CPU (and not the GPU)\n",
    "\n",
    "# YOUR CODE HERE\n",
    "checkpoint_path = 'checkpoints/best_val_loss.pt'\n",
    "model.load_state_dict(torch.load(checkpoint_path)['model_state_dict'])\n",
    "\n",
    "device = torch.device(\"cpu\")\n",
    "model.to(device)\n",
    "\n",
    "# Let's wrap our model using the predictor class\n",
    "mean, std = compute_mean_and_std()\n",
    "predictor = Predictor(model, class_names, mean, std).cpu()\n",
    "\n",
    "# Export using torch.jit.script\n",
    "scripted_predictor = torch.jit.script(predictor) # YOUR CODE HERE\n",
    "\n",
    "scripted_predictor.save(\"checkpoints/original_exported.pt\")"
   ]
  },
  {
   "cell_type": "markdown",
   "metadata": {},
   "source": [
    "Now let's make sure the exported model has the same performance as the original one, by reloading it and testing it. The Predictor class takes different inputs than the non-wrapped model, so we have to use a specific test loop:"
   ]
  },
  {
   "cell_type": "code",
   "execution_count": null,
   "metadata": {},
   "outputs": [],
   "source": [
    "import torch\n",
    "\n",
    "# Load using torch.jit.load\n",
    "model_reloaded = torch.jit.load(\"checkpoints/original_exported.pt\")  # YOUR CODE HERE"
   ]
  },
  {
   "cell_type": "code",
   "execution_count": null,
   "metadata": {},
   "outputs": [],
   "source": [
    "from src.predictor import predictor_test\n",
    "\n",
    "pred, truth = predictor_test(data_loaders['test'], model_reloaded)"
   ]
  },
  {
   "cell_type": "markdown",
   "metadata": {},
   "source": [
    "Finally, let's have a look at the confusion matrix of the model we are going to use in production:"
   ]
  },
  {
   "cell_type": "code",
   "execution_count": null,
   "metadata": {},
   "outputs": [],
   "source": [
    "from src.helpers import plot_confusion_matrix\n",
    "\n",
    "plot_confusion_matrix(pred, truth)"
   ]
  }
 ],
 "metadata": {
  "kernelspec": {
   "display_name": "Python 3",
   "language": "python",
   "name": "python3"
  },
  "widgets": {
   "application/vnd.jupyter.widget-state+json": {
    "state": {},
    "version_major": 2,
    "version_minor": 0
   }
  }
 },
 "nbformat": 4,
 "nbformat_minor": 4
}
